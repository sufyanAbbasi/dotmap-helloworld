{
 "cells": [
  {
   "cell_type": "code",
   "execution_count": 1,
   "metadata": {
    "collapsed": false
   },
   "outputs": [
    {
     "name": "stdout",
     "output_type": "stream",
     "text": [
      "Current State: pa\n"
     ]
    }
   ],
   "source": [
    "import array, math, os, psycopg2, random, sys, json\n",
    "from shapely.geometry import *\n",
    "from shapely.wkb import loads\n",
    "\n",
    "with open('state_status.json') as data_file:    \n",
    "    data = json.load(data_file)\n",
    "\n",
    "state_name = data[\"status\"][\"state\"]\n",
    "\n",
    "print \"Current State: {0}\".format(state_name)\n",
    "\n",
    "def init_capture(capture_dir):\n",
    "    # Create capture dir if it doesn't exist\n",
    "    if not os.path.exists(capture_dir):\n",
    "        os.makedirs(capture_dir)\n",
    "        \n",
    "def state_lookup(state_name):\n",
    "    found = [item for item in ANSI_CODES if item[1] == state_name]\n",
    "    if found:\n",
    "        return found[0][0]\n",
    "    return -1;\n",
    "\n",
    "def format_tabblock_url(state):\n",
    "    # URL for FIPS and GNIS codes file -- https://www.census.gov/geo/reference/docs/state.txt'\n",
    "    return 'ftp://ftp2.census.gov/geo/tiger/TIGER2010/TABBLOCK/2010/tl_2010_{0}_tabblock10.zip'.format(state)\n",
    "\n",
    "def format_lodes7_od_url(st, part, t, year):\n",
    "    #http://lehd.ces.census.gov/data/lodes/LODES7/LODESTechDoc7.0.pdf\n",
    "    return 'http://lehd.ces.census.gov/data/lodes/LODES7/{0}/od/{0}_od_{1}_{2}_{3}.csv.gz'.format(st, part, t, year)\n",
    "\n",
    "def download_file(url, filename):\n",
    "    command = \"wget %s -O %s\" % (url, filename)\n",
    "    print \"Downloading %s to %s\" % (url, filename)\n",
    "    !$command\n",
    "\n",
    "def unzip_tabblock(filename, exdir):\n",
    "    command = \"unzip %s -d %s\" % (filename, exdir)\n",
    "    print \"Unzip %s to %s\" % (filename, exdir)\n",
    "    !$command\n",
    "\n",
    "def gunzip_lodes(filename):\n",
    "    command = \"gunzip %s\" % filename\n",
    "    print \"Unzip %s\" % filename\n",
    "    !$command\n",
    "\n",
    "def create_od_table(state):\n",
    "    s =(\n",
    "        \"DROP TABLE IF EXISTS %s_od_jt00_2011;\\n\"\n",
    "        \"CREATE TABLE %s_od_jt00_2011 ( \"\n",
    "        \"gid serial NOT NULL, \"\n",
    "        \"w_geocode character varying(15), \"\n",
    "        \"h_geocode character varying(15), \"\n",
    "        \"S000 integer, \"\n",
    "        \"SA01 integer, \" \n",
    "        \"SA02 integer, \"\n",
    "        \"SA03 integer, \"\n",
    "        \"SE01 integer, \"\n",
    "        \"SE02 integer, \"\n",
    "        \"SE03 integer, \"\n",
    "        \"SI01 integer, \"\n",
    "        \"SI02 integer, \"\n",
    "        \"SI03 integer, \"\n",
    "        \"createdate character varying(8));\\n\"\n",
    "    ) % (state,state)\n",
    "    return s\n",
    "\n",
    "def copy_cvs_to_psql(state,filename):\n",
    "    s = (\n",
    "         \"COPY %s_od_jt00_2011(\"\n",
    "         \"w_geocode,h_geocode,S000,SA01,\"\n",
    "         \"SA02,SA03,SE01,SE02,SE03,SI01,\"\n",
    "         \"SI02,SI03,createdate) FROM \"\n",
    "         \"'%s' \"\n",
    "        \"DELIMITER ',' CSV HEADER;\\n\"\n",
    "         ) % (state, filename)\n",
    "    return s\n",
    "\n",
    "ANSI_CODES = [\n",
    "    ('01', 'al'), ('02', 'ak'), ('04', 'az'), ('05', 'ar'), ('06', 'ca'),\n",
    "    ('08', 'co'), ('09', 'ct'), ('10', 'de'), ('11', 'dc'), ('12', 'fl'),\n",
    "    ('13', 'ga'), ('15', 'hi'), ('16', 'id'), ('17', 'il'), ('18', 'in'),\n",
    "    ('19', 'ia'), ('20', 'ks'), ('21', 'ky'), ('22', 'la'), ('23', 'me'),\n",
    "    ('24', 'md'), ('25', 'ma'), ('26', 'mi'), ('27', 'mn'), ('28', 'ms'),\n",
    "    ('29', 'mo'), ('30', 'mt'), ('31', 'ne'), ('32', 'nv'), ('33', 'nh'),\n",
    "    ('34', 'nj'), ('35', 'nm'), ('36', 'ny'), ('37', 'nc'), ('38', 'nd'),\n",
    "    ('39', 'oh'), ('40', 'ok'), ('41', 'or'), ('42', 'pa'), ('44', 'ri'),\n",
    "    ('45', 'sc'), ('46', 'sd'), ('47', 'tn'), ('48', 'tx'), ('49', 'ut'),\n",
    "    ('50', 'vt'), ('51', 'va'), ('53', 'wa'), ('54', 'wi'), ('55', 'wy'),\n",
    "    ('56', 'wv')\n",
    "]"
   ]
  },
  {
   "cell_type": "code",
   "execution_count": null,
   "metadata": {
    "collapsed": false
   },
   "outputs": [],
   "source": [
    "init_capture(\"capture/tabblock_2010\")\n",
    "capture_dir = \"capture/tabblock_2010/\"\n",
    "state_id = state_lookup(state_name);\n",
    "init_capture(capture_dir)\n",
    "state_url = format_tabblock_url(state_id)\n",
    "state_filename = capture_dir + os.path.basename(state_url)\n",
    "download_file(state_url, state_filename)\n",
    "unzip_tabblock(state_filename, state_filename.split('.')[0])"
   ]
  },
  {
   "cell_type": "code",
   "execution_count": 2,
   "metadata": {
    "collapsed": false
   },
   "outputs": [
    {
     "name": "stdout",
     "output_type": "stream",
     "text": [
      "42\n"
     ]
    }
   ],
   "source": [
    "state_id = state_lookup(state_name);\n",
    "print state_id"
   ]
  },
  {
   "cell_type": "code",
   "execution_count": null,
   "metadata": {
    "collapsed": false
   },
   "outputs": [],
   "source": [
    "command = \"createdb tl_2010_tabblock\"\n",
    "!$command\n",
    "command = \"psql -d tl_2010_tabblock -c 'CREATE EXTENSION postgis;'\"\n",
    "!$command"
   ]
  },
  {
   "cell_type": "code",
   "execution_count": null,
   "metadata": {
    "collapsed": false
   },
   "outputs": [
    {
     "name": "stdout",
     "output_type": "stream",
     "text": [
      "Shapefile type: Polygon\r\n",
      "Postgis type: MULTIPOLYGON[2]\r\n"
     ]
    }
   ],
   "source": [
    "command = \"shp2pgsql -a -s 4269:4326 capture/tabblock_2010/tl_2010_%s_tabblock10/tl_2010_%s_tabblock10.shp tl_2010_tabblock10 | psql -q -d tl_2010_tabblock\" % (state_id,state_id)\n",
    "!$command"
   ]
  },
  {
   "cell_type": "code",
   "execution_count": null,
   "metadata": {
    "collapsed": false
   },
   "outputs": [],
   "source": [
    "command = \"psql -d tl_2010_tabblock -c 'CREATE INDEX ON tl_2010_tabblock10 (geoid10);'\"\n",
    "!$command"
   ]
  },
  {
   "cell_type": "code",
   "execution_count": null,
   "metadata": {
    "collapsed": false
   },
   "outputs": [],
   "source": [
    "command = \"psql -d tl_2010_tabblock -c 'CREATE INDEX ON tl_2010_tabblock10 USING GIST (geom);'\"\n",
    "!$command"
   ]
  },
  {
   "cell_type": "code",
   "execution_count": null,
   "metadata": {
    "collapsed": false
   },
   "outputs": [],
   "source": [
    "capture_dir = \"capture/lodes7/{0}/\".format(state_name);\n",
    "init_capture(capture_dir)\n",
    "state_url = format_lodes7_od_url(state_name, 'main', 'JT00', '2011')\n",
    "state_filename = capture_dir + os.path.basename(state_url)\n",
    "download_file(state_url, state_filename) \n",
    "gunzip_lodes(state_filename)\n"
   ]
  },
  {
   "cell_type": "code",
   "execution_count": null,
   "metadata": {
    "collapsed": false
   },
   "outputs": [],
   "source": [
    "state_file = \"{0}-csv-to-psql.sql\".format(state_name)\n",
    "f = open(state_file, \"w\")\n",
    "f.write(create_od_table(state_name))\n",
    "f.write(copy_cvs_to_psql(state_name, os.path.abspath(os.path.splitext(state_filename)[0])))\n",
    "f.close()\n",
    "command = \"psql -d tl_2010_tabblock -f {0}\".format(state_file)\n",
    "!$command\n",
    "\n",
    "command = \"psql -d tl_2010_tabblock -c 'CREATE INDEX ON {0}_od_jt00_2011 (gid);'\".format(state_name)\n",
    "!$command\n",
    "\n",
    "command = \"psql -d tl_2010_tabblock -c 'CREATE INDEX ON {0}_od_jt00_2011 (w_geocode);'\".format(state_name)\n",
    "!$command\n",
    "\n",
    "command = \"psql -d tl_2010_tabblock -c 'CREATE INDEX ON {0}_od_jt00_2011 (h_geocode);'\".format(state_name)\n",
    "!$command"
   ]
  },
  {
   "cell_type": "code",
   "execution_count": null,
   "metadata": {
    "collapsed": true
   },
   "outputs": [],
   "source": []
  }
 ],
 "metadata": {
  "kernelspec": {
   "display_name": "Python 2",
   "language": "python",
   "name": "python2"
  },
  "language_info": {
   "codemirror_mode": {
    "name": "ipython",
    "version": 2
   },
   "file_extension": ".py",
   "mimetype": "text/x-python",
   "name": "python",
   "nbconvert_exporter": "python",
   "pygments_lexer": "ipython2",
   "version": "2.7.11"
  }
 },
 "nbformat": 4,
 "nbformat_minor": 0
}
