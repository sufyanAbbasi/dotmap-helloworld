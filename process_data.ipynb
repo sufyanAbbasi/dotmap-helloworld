{
 "cells": [
  {
   "cell_type": "code",
   "execution_count": 8,
   "metadata": {
    "collapsed": false
   },
   "outputs": [],
   "source": [
    "import array, math, os, psycopg2, random\n",
    "from shapely.geometry import *\n",
    "from shapely.wkb import loads\n",
    "from multiprocessing import Pool\n",
    "from multiprocessing.dummy import Pool as ThreadPool \n",
    "\n",
    "def LonLatToPixelXY(lonlat, scale = 1.):\n",
    "    (lon, lat) = lonlat\n",
    "    x = (lon + 180.0) * 256.0 / 360.0\n",
    "    y = 128.0 - math.log(math.tan((lat + 90.0) * math.pi / 360.0)) * 128.0 / math.pi\n",
    "    return [x*scale, y*scale]\n",
    "\n",
    "def randomPoint(geom):\n",
    "    poly = loads(geom, True)\n",
    "    bbox = poly.bounds\n",
    "    l,b,r,t = bbox\n",
    "    while True:\n",
    "        point = Point(random.uniform(l,r),random.uniform(t,b))\n",
    "        if point is None:\n",
    "            break\n",
    "        if poly.contains(point):\n",
    "            break\n",
    "    return point.__geo_interface__['coordinates']\n",
    "\n",
    "def split_list(alist, wanted_parts=1):\n",
    "    length = len(alist)\n",
    "    return [ alist[i*length // wanted_parts: (i+1)*length // wanted_parts] \n",
    "             for i in range(wanted_parts) ]\n",
    "\n",
    "def my_range(start, end, step):\n",
    "    while start <= end:\n",
    "        yield start\n",
    "        start += step\n",
    "\n",
    "def get_count(conn, table):\n",
    "    query = \"SELECT count(*) FROM %s\" % table\n",
    "    cur = conn.cursor()\n",
    "    cur.execute(query)\n",
    "    rows = cur.fetchall()\n",
    "    cur.close()\n",
    "    return rows\n",
    "    \n",
    "def pack_color(color):\n",
    "    return color['r'] + color['g'] * 256.0 + color['b'] * 256.0 * 256.0;\n",
    "\n",
    "def unpack_color(f):\n",
    "    b = math.floor(f / 256.0 / 256.0)\n",
    "    g = math.floor((f - b * 256.0 * 256.0) / 256.0)\n",
    "    r = math.floor(f - b * 256.0 * 256.0 - g * 256.0)\n",
    "    return {'r':r,'g':g,'b':b}\n",
    "\n",
    "se01_color = {'r':25, 'g':75, 'b':255}\n",
    "se02_color = {'r':20, 'g':138, 'b':9}\n",
    "se03_color = {'r':227, 'g':30, 'b':30}\n",
    "ANSI_CODES = [\n",
    "    ('01', 'al'), ('02', 'ak'), ('04', 'az'), ('05', 'ar'), ('06', 'ca'),\n",
    "    ('08', 'co'), ('09', 'ct'), ('10', 'de'), ('11', 'dc'), ('12', 'fl'),\n",
    "    ('13', 'ga'), ('15', 'hi'), ('16', 'id'), ('17', 'il'), ('18', 'in'),\n",
    "    ('19', 'ia'), ('20', 'ks'), ('21', 'ky'), ('22', 'la'), ('23', 'me'),\n",
    "    ('24', 'md'), ('25', 'ma'), ('26', 'mi'), ('27', 'mn'), ('28', 'ms'),\n",
    "    ('29', 'mo'), ('30', 'mt'), ('31', 'ne'), ('32', 'nv'), ('33', 'nh'),\n",
    "    ('34', 'nj'), ('35', 'nm'), ('36', 'ny'), ('37', 'nc'), ('38', 'nd'),\n",
    "    ('39', 'oh'), ('40', 'ok'), ('41', 'or'), ('42', 'pa'), ('44', 'ri'),\n",
    "    ('45', 'sc'), ('46', 'sd'), ('47', 'tn'), ('48', 'tx'), ('49', 'ut'),\n",
    "    ('50', 'vt'), ('51', 'va'), ('53', 'wa'), ('54', 'wi'), ('55', 'wy'),\n",
    "    ('56', 'wv')\n",
    "]"
   ]
  },
  {
   "cell_type": "code",
   "execution_count": 9,
   "metadata": {
    "collapsed": false
   },
   "outputs": [
    {
     "name": "stdout",
     "output_type": "stream",
     "text": [
      "Total Rows: 215901\n",
      "Querying rows...\n",
      "Batch start: 0. Batch limit: 100000\n",
      "Batch start: 100000. Batch limit: 100000\n",
      "Resulting rows: 200000 \n",
      "Processing rows...\n"
     ]
    },
    {
     "ename": "TypeError",
     "evalue": "object of type 'NoneType' has no len()",
     "output_type": "error",
     "traceback": [
      "\u001b[1;31m---------------------------------------------------------------------------\u001b[0m",
      "\u001b[1;31mTypeError\u001b[0m                                 Traceback (most recent call last)",
      "\u001b[1;32m<ipython-input-9-6fa8294e0f6d>\u001b[0m in \u001b[0;36m<module>\u001b[1;34m()\u001b[0m\n\u001b[0;32m     86\u001b[0m \u001b[1;32mprint\u001b[0m \u001b[1;34m\"Processing rows...\"\u001b[0m\u001b[1;33m\u001b[0m\u001b[0m\n\u001b[0;32m     87\u001b[0m \u001b[0mpool\u001b[0m \u001b[1;33m=\u001b[0m \u001b[0mPool\u001b[0m\u001b[1;33m(\u001b[0m\u001b[1;36m23\u001b[0m\u001b[1;33m)\u001b[0m \u001b[1;31m# use 24 of available 32 cores. Let's not be greedy...\u001b[0m\u001b[1;33m\u001b[0m\u001b[0m\n\u001b[1;32m---> 88\u001b[1;33m \u001b[0mresults\u001b[0m \u001b[1;33m=\u001b[0m \u001b[0mpool\u001b[0m\u001b[1;33m.\u001b[0m\u001b[0mmap\u001b[0m\u001b[1;33m(\u001b[0m\u001b[0mprocess_row\u001b[0m\u001b[1;33m,\u001b[0m \u001b[0mrows\u001b[0m\u001b[1;33m)\u001b[0m\u001b[1;33m\u001b[0m\u001b[0m\n\u001b[0m\u001b[0;32m     89\u001b[0m \u001b[0mpool\u001b[0m\u001b[1;33m.\u001b[0m\u001b[0mclose\u001b[0m\u001b[1;33m(\u001b[0m\u001b[1;33m)\u001b[0m\u001b[1;33m\u001b[0m\u001b[0m\n\u001b[0;32m     90\u001b[0m \u001b[0mpool\u001b[0m\u001b[1;33m.\u001b[0m\u001b[0mjoin\u001b[0m\u001b[1;33m(\u001b[0m\u001b[1;33m)\u001b[0m\u001b[1;33m\u001b[0m\u001b[0m\n",
      "\u001b[1;32m/opt/conda/lib/python2.7/multiprocessing/pool.pyc\u001b[0m in \u001b[0;36mmap\u001b[1;34m(self, func, iterable, chunksize)\u001b[0m\n\u001b[0;32m    249\u001b[0m         '''\n\u001b[0;32m    250\u001b[0m         \u001b[1;32massert\u001b[0m \u001b[0mself\u001b[0m\u001b[1;33m.\u001b[0m\u001b[0m_state\u001b[0m \u001b[1;33m==\u001b[0m \u001b[0mRUN\u001b[0m\u001b[1;33m\u001b[0m\u001b[0m\n\u001b[1;32m--> 251\u001b[1;33m         \u001b[1;32mreturn\u001b[0m \u001b[0mself\u001b[0m\u001b[1;33m.\u001b[0m\u001b[0mmap_async\u001b[0m\u001b[1;33m(\u001b[0m\u001b[0mfunc\u001b[0m\u001b[1;33m,\u001b[0m \u001b[0miterable\u001b[0m\u001b[1;33m,\u001b[0m \u001b[0mchunksize\u001b[0m\u001b[1;33m)\u001b[0m\u001b[1;33m.\u001b[0m\u001b[0mget\u001b[0m\u001b[1;33m(\u001b[0m\u001b[1;33m)\u001b[0m\u001b[1;33m\u001b[0m\u001b[0m\n\u001b[0m\u001b[0;32m    252\u001b[0m \u001b[1;33m\u001b[0m\u001b[0m\n\u001b[0;32m    253\u001b[0m     \u001b[1;32mdef\u001b[0m \u001b[0mimap\u001b[0m\u001b[1;33m(\u001b[0m\u001b[0mself\u001b[0m\u001b[1;33m,\u001b[0m \u001b[0mfunc\u001b[0m\u001b[1;33m,\u001b[0m \u001b[0miterable\u001b[0m\u001b[1;33m,\u001b[0m \u001b[0mchunksize\u001b[0m\u001b[1;33m=\u001b[0m\u001b[1;36m1\u001b[0m\u001b[1;33m)\u001b[0m\u001b[1;33m:\u001b[0m\u001b[1;33m\u001b[0m\u001b[0m\n",
      "\u001b[1;32m/opt/conda/lib/python2.7/multiprocessing/pool.pyc\u001b[0m in \u001b[0;36mget\u001b[1;34m(self, timeout)\u001b[0m\n\u001b[0;32m    565\u001b[0m             \u001b[1;32mreturn\u001b[0m \u001b[0mself\u001b[0m\u001b[1;33m.\u001b[0m\u001b[0m_value\u001b[0m\u001b[1;33m\u001b[0m\u001b[0m\n\u001b[0;32m    566\u001b[0m         \u001b[1;32melse\u001b[0m\u001b[1;33m:\u001b[0m\u001b[1;33m\u001b[0m\u001b[0m\n\u001b[1;32m--> 567\u001b[1;33m             \u001b[1;32mraise\u001b[0m \u001b[0mself\u001b[0m\u001b[1;33m.\u001b[0m\u001b[0m_value\u001b[0m\u001b[1;33m\u001b[0m\u001b[0m\n\u001b[0m\u001b[0;32m    568\u001b[0m \u001b[1;33m\u001b[0m\u001b[0m\n\u001b[0;32m    569\u001b[0m     \u001b[1;32mdef\u001b[0m \u001b[0m_set\u001b[0m\u001b[1;33m(\u001b[0m\u001b[0mself\u001b[0m\u001b[1;33m,\u001b[0m \u001b[0mi\u001b[0m\u001b[1;33m,\u001b[0m \u001b[0mobj\u001b[0m\u001b[1;33m)\u001b[0m\u001b[1;33m:\u001b[0m\u001b[1;33m\u001b[0m\u001b[0m\n",
      "\u001b[1;31mTypeError\u001b[0m: object of type 'NoneType' has no len()"
     ]
    }
   ],
   "source": [
    "# faster\n",
    "# runs multiple queries to build rows\n",
    "# then runs multiple processes to process rows\n",
    "\n",
    "state = 'ak'\n",
    "dest = '%s-od-jt00-2011.bin' % state\n",
    "STEP = 100000 # run SQL query 100000 rows at a time\n",
    "    \n",
    "packed_se01_color = pack_color(se01_color)\n",
    "packed_se02_color = pack_color(se02_color)\n",
    "packed_se03_color = pack_color(se03_color)\n",
    "\n",
    "# find how many rows total:\n",
    "conn = psycopg2.connect(dbname=\"tl_2010_tabblock\", host=\"/var/run/postgresql\")\n",
    "rows = get_count(conn, '%s_od_jt00_2011' % state)\n",
    "TOTAL = rows[0][0]\n",
    "print 'Total Rows: %s' % TOTAL\n",
    "conn.close()\n",
    "\n",
    "def get_rows(index):\n",
    "    offset = index * STEP    \n",
    "    conn = psycopg2.connect(dbname=\"tl_2010_tabblock\", host=\"/var/run/postgresql\")\n",
    "    print \"Batch start: %s. Batch limit: %s\" % (offset, STEP)\n",
    "    query = (\n",
    "            \"select w.geom, h.geom, od.se01, od.se02, od.se03 \"\n",
    "            \"from %s_od_jt00_2011 od  \"\n",
    "            \"left join tl_2010_tabblock10 w on od.w_geocode = w.geoid10 \"\n",
    "            \"left join tl_2010_tabblock10 h on od.h_geocode = h.geoid10 \"\n",
    "            \"order by od.gid \"\n",
    "            \"limit %s \"\n",
    "            \"offset %s \"\n",
    "            ) % (state, STEP, offset)\n",
    "    cur = conn.cursor()\n",
    "    cur.execute(query)\n",
    "    rows = cur.fetchall()\n",
    "    cur.close()\n",
    "    conn.close()\n",
    "    return rows\n",
    "\n",
    "def process_row(row):\n",
    "    data = []\n",
    "    workGeom = row[0]\n",
    "    homeGeom = row[1]\n",
    "    se01 = row[2]\n",
    "    se02 = row[3]\n",
    "    se03 = row[4]\n",
    "    for i in range(se01):\n",
    "        wpoint = randomPoint(workGeom)\n",
    "        hpoint = randomPoint(homeGeom)\n",
    "        data += LonLatToPixelXY(wpoint)\n",
    "        data += LonLatToPixelXY(hpoint)\n",
    "        data.append(packed_se01_color)\n",
    "    for i in range(se02):\n",
    "        wpoint = randomPoint(workGeom)\n",
    "        hpoint = randomPoint(homeGeom)\n",
    "        data += LonLatToPixelXY(wpoint)\n",
    "        data += LonLatToPixelXY(hpoint)\n",
    "        data.append(packed_se02_color)\n",
    "    for i in range(se03):\n",
    "        wpoint = randomPoint(workGeom)\n",
    "        hpoint = randomPoint(homeGeom)\n",
    "        data += LonLatToPixelXY(wpoint)\n",
    "        data += LonLatToPixelXY(hpoint)\n",
    "        data.append(packed_se03_color)\n",
    "        \n",
    "    #print \"Randomizing points...\"\n",
    "    split = split_list(data,len(data)/3)\n",
    "    random.shuffle(split)        \n",
    "    data = []\n",
    "    for x in split:\n",
    "        for y in x:\n",
    "            data += [y]\n",
    "    return data\n",
    "\n",
    "        \n",
    "print \"Querying rows...\"\n",
    "index = range(0, TOTAL / STEP)\n",
    "pool = Pool(23)\n",
    "all_rows = pool.map(get_rows, index)\n",
    "pool.close()\n",
    "pool.join()\n",
    "\n",
    "rows = [row for rows in all_rows for row in rows] # flatten results\n",
    "print 'Resulting rows: %s ' % len(rows)\n",
    "\n",
    "print \"Processing rows...\"\n",
    "pool = Pool(23) # use 24 of available 32 cores. Let's not be greedy...\n",
    "results = pool.map(process_row, rows)\n",
    "pool.close()\n",
    "pool.join()\n",
    "\n",
    "print \"Appending results to %s\" % dest\n",
    "# at this point we have an array of arrays (e.g. [[73.1, 96.8, 73.2, 96.7, 625172], [73.2, 96.7, 73.1, 96.8, 622372], ...])\n",
    "results = [item for sublist in results for item in sublist] # flatten results\n",
    "array.array('f', results).tofile(open(dest, 'aw'))\n",
    "\n",
    "\n",
    "print \"Process finished.\""
   ]
  },
  {
   "cell_type": "code",
   "execution_count": 2,
   "metadata": {
    "collapsed": false
   },
   "outputs": [
    {
     "data": {
      "text/html": [
       "<iframe src=\"index.html\" width=\"1000\" height=\"500\">"
      ],
      "text/plain": [
       "<IPython.core.display.HTML object>"
      ]
     },
     "metadata": {},
     "output_type": "display_data"
    }
   ],
   "source": [
    "%%HTML\n",
    "<iframe src=\"index.html\" width=\"1000\" height=\"500\">"
   ]
  },
  {
   "cell_type": "code",
   "execution_count": null,
   "metadata": {
    "collapsed": true
   },
   "outputs": [],
   "source": []
  }
 ],
 "metadata": {
  "kernelspec": {
   "display_name": "Python 2",
   "language": "python",
   "name": "python2"
  },
  "language_info": {
   "codemirror_mode": {
    "name": "ipython",
    "version": 2
   },
   "file_extension": ".py",
   "mimetype": "text/x-python",
   "name": "python",
   "nbconvert_exporter": "python",
   "pygments_lexer": "ipython2",
   "version": "2.7.11"
  }
 },
 "nbformat": 4,
 "nbformat_minor": 0
}
